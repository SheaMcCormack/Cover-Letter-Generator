{
 "cells": [
  {
   "cell_type": "markdown",
   "id": "9b0e9026",
   "metadata": {},
   "source": [
    "# Cover Letter Generator\n"
   ]
  },
  {
   "cell_type": "code",
   "execution_count": 1,
   "id": "280a44d3",
   "metadata": {},
   "outputs": [],
   "source": [
    "import re\n",
    "import pandas as pd"
   ]
  },
  {
   "cell_type": "code",
   "execution_count": 2,
   "id": "a49ac79a",
   "metadata": {},
   "outputs": [],
   "source": [
    "paras = [] # The paragraphs that satisy the qualifications\n",
    "# trigs are words that trigger a paragraph\n",
    "# quals is a list of qualifications"
   ]
  },
  {
   "cell_type": "markdown",
   "id": "c49c2d7a",
   "metadata": {},
   "source": [
    "Based on our analysis the best keywords are: \n",
    "* deep learning \n",
    "* in university \n",
    "* reinforcement learning \n",
    "* nlp \n",
    "* teamwork \n",
    "* pytorch \n",
    "* communication \n",
    "* creative \n",
    "* tensorflow \n",
    "* python \n",
    "* c \n",
    "* computer vision \n",
    "* problem solving \n",
    "* self-motivated \n",
    "* neural network \n",
    "* framework \n",
    "* machine learning\n"
   ]
  },
  {
   "cell_type": "code",
   "execution_count": 3,
   "id": "9b39edcb",
   "metadata": {},
   "outputs": [
    {
     "name": "stdout",
     "output_type": "stream",
     "text": [
      "Company: ABC.Co\n"
     ]
    }
   ],
   "source": [
    "company = input(\"Company: \")"
   ]
  },
  {
   "cell_type": "code",
   "execution_count": 4,
   "id": "7e419d5c",
   "metadata": {},
   "outputs": [
    {
     "name": "stdout",
     "output_type": "stream",
     "text": [
      "Position: CEO\n"
     ]
    }
   ],
   "source": [
    "position = input(\"Position: \")"
   ]
  },
  {
   "cell_type": "code",
   "execution_count": 5,
   "id": "bfdcd497",
   "metadata": {},
   "outputs": [
    {
     "name": "stdout",
     "output_type": "stream",
     "text": [
      "location: Edmonton, AB\n"
     ]
    }
   ],
   "source": [
    "location = input(\"location: \")"
   ]
  },
  {
   "cell_type": "code",
   "execution_count": 6,
   "id": "81ffdc4e",
   "metadata": {},
   "outputs": [
    {
     "name": "stdout",
     "output_type": "stream",
     "text": [
      "Qualifications: - Currently enrolled at university in Ph.D. or MS program in computer science, computer engineering, or related fields - Familiarity with some of the popular deep learning architectures - Experience with a certain AI field such as reinforcement learning, heuristic search, integer linear programming, etc - Excellent communication skills, self-motivated, with creative thinking and attention to details  Preferred Qualifications - Specialized and related research or industrial experiences, demonstrated either by publications or projects\n"
     ]
    }
   ],
   "source": [
    "qual_txt = input(\"Qualifications: \")"
   ]
  },
  {
   "cell_type": "code",
   "execution_count": 7,
   "id": "763c9a52",
   "metadata": {},
   "outputs": [],
   "source": [
    "quals = []\n",
    "quals = re.split(' |\\n|•', str(qual_txt))"
   ]
  },
  {
   "cell_type": "code",
   "execution_count": 8,
   "id": "417eaa26",
   "metadata": {},
   "outputs": [],
   "source": [
    "def clean_word(word):\n",
    "    if 'class' in word:\n",
    "        return ''\n",
    "    bad_words = ['a', 'in', 'and', 'on', 'plus', 'to', 'or', 'as', 'with', 'etc.', \n",
    "                 'etc', 'such', '-', 'of', 'the', 'our', 'at', 'skills', 'is', 'that', \n",
    "                'one', 'for', 'work', 'related', 'including', 'be', \n",
    "                 'more', 'full-time', 'paid']\n",
    "    if word in bad_words:\n",
    "        return ''\n",
    "    \n",
    "    bad_chars = [',', '(', ')', '</span>', ';', '.']\n",
    "    for char in bad_chars:\n",
    "        word = word.replace(char, '')\n",
    "    return word.lower()"
   ]
  },
  {
   "cell_type": "code",
   "execution_count": 9,
   "id": "fdb590e1",
   "metadata": {},
   "outputs": [],
   "source": [
    "for i in range(len(quals)):\n",
    "    quals[i] = clean_word(quals[i])"
   ]
  },
  {
   "cell_type": "code",
   "execution_count": 10,
   "id": "a164b64a",
   "metadata": {},
   "outputs": [],
   "source": [
    "def add_par(trigs, quals, para):\n",
    "    global paras\n",
    "    for trig in trigs:\n",
    "        if trig in quals:\n",
    "            paras.append(para)\n",
    "            return"
   ]
  },
  {
   "cell_type": "markdown",
   "id": "91025d3a",
   "metadata": {},
   "source": [
    "### University\n"
   ]
  },
  {
   "cell_type": "code",
   "execution_count": 11,
   "id": "3f77a15d",
   "metadata": {},
   "outputs": [],
   "source": [
    "trigs = [\"university\", \"enrolled\", \"post-secondary\", \"post\", \"secondary\", \"degree\"]\n",
    "para = \"I am currently enrolled in my third year of the Computing Science Specialization program at the University of Alberta. The focus of my studies is in machine-learning.\"\n",
    "add_par(trigs, quals, para)\n"
   ]
  },
  {
   "cell_type": "markdown",
   "id": "5cfa49f4",
   "metadata": {},
   "source": [
    "### Excel\n"
   ]
  },
  {
   "cell_type": "code",
   "execution_count": 12,
   "id": "40fec598",
   "metadata": {},
   "outputs": [],
   "source": [
    "trigs = [\"excel\", \"sheets\", \"microsoft\", \"office\"]\n",
    "para = \"Proficiency in Microsoft Excel through my experience in school(Stat 161) and keeping track of bookings and payments for my business Edmonton Tent Rentals. I have also used PowerPoint and Word every year since elementary school.\"\n",
    "add_par(trigs, quals, para)"
   ]
  },
  {
   "cell_type": "markdown",
   "id": "08f9b249",
   "metadata": {},
   "source": [
    "### Communication\n"
   ]
  },
  {
   "cell_type": "code",
   "execution_count": 13,
   "id": "20a8eb43",
   "metadata": {},
   "outputs": [],
   "source": [
    "trigs = [\"communication\", \"verbal\", \"team\", \"teams\", \"teamwork\"]\n",
    "para = \"I have developed excellent communication skills from working with clients to build schedules, hiring and directing employees, collaborating with other developers in various hackathons, and developing Rolly Road with a team.\"\n",
    "add_par(trigs, quals, para)"
   ]
  },
  {
   "cell_type": "markdown",
   "id": "34a2e5ae",
   "metadata": {},
   "source": [
    "### Self Starter\n"
   ]
  },
  {
   "cell_type": "code",
   "execution_count": 14,
   "id": "7026aac4",
   "metadata": {},
   "outputs": [],
   "source": [
    "trigs = [\"motivated\", \"self\", \"starter\"]\n",
    "para = \"In 2020 when a bunch of businesses were shut down, and jobs were hard to come by, instead of sitting and waiting for more positions to open up, I capitalized on the situation. I built a business where I could benefit from the restrictions that otherwise would've negatively affected me. This was the origin of Edmonton Tent Rental, where I rented large event tents for outdoor gatherings.\"\n",
    "add_par(trigs, quals, para)"
   ]
  },
  {
   "cell_type": "markdown",
   "id": "53a4d017",
   "metadata": {},
   "source": [
    "### Linux\n"
   ]
  },
  {
   "cell_type": "code",
   "execution_count": 15,
   "id": "b3491450",
   "metadata": {},
   "outputs": [],
   "source": [
    "trigs = [\"linux\"]\n",
    "para = \"I frequently use Linux as I have proficient knowledge in accessing remote machines. I learned this skill in the Intro to Practical Computing course at the University of Alberta.\"\n",
    "add_par(trigs, quals, para)"
   ]
  },
  {
   "cell_type": "markdown",
   "id": "5ac05ce9",
   "metadata": {},
   "source": [
    "### Python\n"
   ]
  },
  {
   "cell_type": "code",
   "execution_count": 16,
   "id": "ce31dd61",
   "metadata": {},
   "outputs": [],
   "source": [
    "trigs = [\"python\"]\n",
    "para = \"Python is the primary language that I have used consistently for the past four years. I am proficent in many datascience libraries such as Scikit-learn, Pandas, Matplotlib, etc. I have built numerous side projects in Python including the automated cover-letter generator that wrote this cover letter.\"\n",
    "add_par(trigs, quals, para)"
   ]
  },
  {
   "cell_type": "markdown",
   "id": "4a11c758",
   "metadata": {},
   "source": [
    "### English"
   ]
  },
  {
   "cell_type": "code",
   "execution_count": 17,
   "id": "fe3482b6",
   "metadata": {},
   "outputs": [],
   "source": [
    "trigs = [\"enlgish\", \"writing\", \"written\"]\n",
    "para = \" English is my native language, and in my most recent University English class, WRS 104, I had received an A.\"\n",
    "add_par(trigs, quals, para)"
   ]
  },
  {
   "cell_type": "markdown",
   "id": "b50b4012",
   "metadata": {},
   "source": [
    "### Database"
   ]
  },
  {
   "cell_type": "code",
   "execution_count": 18,
   "id": "08431b09",
   "metadata": {},
   "outputs": [],
   "source": [
    "trigs = [\"sql\", \"mongodb\", \"database\", \"non procedural\"]\n",
    "para = \"Database management is one of my favorite sub-sections of Computer Science. I am proficient in SQL but I also am familiar with MongoDB.\"\n",
    "add_par(trigs, quals, para)"
   ]
  },
  {
   "cell_type": "markdown",
   "id": "f304e429",
   "metadata": {},
   "source": [
    "### C\\#"
   ]
  },
  {
   "cell_type": "code",
   "execution_count": 19,
   "id": "4402df73",
   "metadata": {},
   "outputs": [],
   "source": [
    "trigs = [\"c#\"]\n",
    "para = \"I have written a few applications in C#, including Rolly Road and all labs in my 'AI for Games' course at the UofA which I recieved an A in.\"\n",
    "add_par(trigs, quals, para)"
   ]
  },
  {
   "cell_type": "markdown",
   "id": "2198a672",
   "metadata": {},
   "source": [
    "### Problem Solving"
   ]
  },
  {
   "cell_type": "code",
   "execution_count": 20,
   "id": "9f78375b",
   "metadata": {},
   "outputs": [],
   "source": [
    "trigs = [\"problem\", \"solving\", \"problem solving\", \"creative\"]\n",
    "para = \"I have excellent problem-solving skills that I developed through coding, practicing math and being an avid chess player, where I am around the 95th percentile for rated players on chess.com.\"\n",
    "add_par(trigs, quals, para)"
   ]
  },
  {
   "cell_type": "markdown",
   "id": "9214b9c8",
   "metadata": {},
   "source": [
    "### Reinforcement Learning"
   ]
  },
  {
   "cell_type": "code",
   "execution_count": 21,
   "id": "661cd7a1",
   "metadata": {},
   "outputs": [],
   "source": [
    "trigs = [\"reinforcement\"]\n",
    "para = \"I have a basic understanding of Reinforcement Learning that I gained by completing Cmput 365 - Reinforcement Learning at the UofA.\"\n",
    "add_par(trigs, quals, para)"
   ]
  },
  {
   "cell_type": "markdown",
   "id": "7f962f1f",
   "metadata": {},
   "source": [
    "### C"
   ]
  },
  {
   "cell_type": "code",
   "execution_count": 22,
   "id": "6c8c8e7e",
   "metadata": {},
   "outputs": [],
   "source": [
    "trigs = [\"c\", \"c/c++\"]\n",
    "para = \"I have a basic understanding of the programming language 'C' I gained by completelting Cmput 201 - Practical Programming Methodology at the UofA where each lab was written on a remote machine in 'C'.\"\n",
    "add_par(trigs, quals, para)"
   ]
  },
  {
   "cell_type": "markdown",
   "id": "b2be7a94",
   "metadata": {},
   "source": [
    "### Neural Networks"
   ]
  },
  {
   "cell_type": "code",
   "execution_count": 23,
   "id": "576e7980",
   "metadata": {},
   "outputs": [],
   "source": [
    "trigs = [\"neural\", \"network\", \"networks\"]\n",
    "para = \"I have developed many neural networks in courses I have completed such as UofA's 'Basics of Machine Learning' and Stanfords online 'Machine Learning.'\"\n",
    "add_par(trigs, quals, para)"
   ]
  },
  {
   "cell_type": "code",
   "execution_count": 24,
   "id": "bb003ada",
   "metadata": {},
   "outputs": [
    {
     "name": "stdout",
     "output_type": "stream",
     "text": [
      "I am currently enrolled in my third year of the Computing Science Specialization program at the University of Alberta. The focus of my studies is in machine-learning.\n",
      "\n",
      "I have developed excellent communication skills from working with clients to build schedules, hiring and directing employees, collaborating with other developers in various hackathons, and developing Rolly Road with a team.\n",
      "\n",
      "I have excellent problem-solving skills that I developed through coding, practicing math and being an avid chess player, where I am around the 95th percentile for rated players on chess.com.\n",
      "\n",
      "I have a basic understanding of Reinforcement Learning that I gained by completing Cmput 365 - Reinforcement Learning at the UofA.\n",
      "\n"
     ]
    }
   ],
   "source": [
    "for k in paras:\n",
    "    print(k)\n",
    "    print('')"
   ]
  },
  {
   "cell_type": "code",
   "execution_count": 25,
   "id": "ccc3ecbd",
   "metadata": {},
   "outputs": [],
   "source": [
    "def cover_text(company, position, location, paras):\n",
    "    letter = f'Dear {company} hiring manager,\\n\\n'\n",
    "    letter += f'The purpose of this letter is to apply for a {position} position at {company} in {location}. ' \n",
    "    letter +=\"When I found your job advertised on Google, I was very excited as I have a great interest in this field, \" \n",
    "    letter +=\"and I believe my skillset strongly matches the qualifications. Moreover, I believe that this would be an \"\n",
    "    letter +=\"extraordinary opportunity to further develop my skills in a workplace environment.\\n\\n\"\n",
    "    for item in paras:\n",
    "        letter += '• ' + item + '\\n' \n",
    "        \n",
    "    letter += '\\nSincerely,\\n\\nShea McCormack'\n",
    "    \n",
    "    i = 0\n",
    "    line_len = 75\n",
    "    let_len = len(letter)\n",
    "    nl = False\n",
    "    c = 0\n",
    "    while c < let_len:\n",
    "        if letter[c] == '\\n' or letter[c] == '•':\n",
    "            i=0\n",
    "            nl = False\n",
    "        else:\n",
    "            i+=1\n",
    "        if i==line_len:\n",
    "            nl = True\n",
    "        if nl and letter[c] == ' ':\n",
    "            i = 0\n",
    "            letter = letter[:c] + '\\n' + letter[c+1:]\n",
    "            nl = False\n",
    "            \n",
    "        c+=1\n",
    "    return letter\n",
    "    "
   ]
  },
  {
   "cell_type": "code",
   "execution_count": 26,
   "id": "7a1c0a98",
   "metadata": {},
   "outputs": [
    {
     "name": "stdout",
     "output_type": "stream",
     "text": [
      "Dear ABC.Co hiring manager,\n",
      "\n",
      "The purpose of this letter is to apply for a CEO position at ABC.Co in Edmonton,\n",
      "AB. When I found your job advertised on Google, I was very excited as I have\n",
      "a great interest in this field, and I believe my skillset strongly matches\n",
      "the qualifications. Moreover, I believe that this would be an extraordinary\n",
      "opportunity to further develop my skills in a workplace environment.\n",
      "\n",
      "• I am currently enrolled in my third year of the Computing Science Specialization\n",
      "program at the University of Alberta. The focus of my studies is in machine-learning.\n",
      "• I have developed excellent communication skills from working with clients\n",
      "to build schedules, hiring and directing employees, collaborating with other\n",
      "developers in various hackathons, and developing Rolly Road with a team.\n",
      "• I have excellent problem-solving skills that I developed through coding, practicing\n",
      "math and being an avid chess player, where I am around the 95th percentile\n",
      "for rated players on chess.com.\n",
      "• I have a basic understanding of Reinforcement Learning that I gained by completing\n",
      "Cmput 365 - Reinforcement Learning at the UofA.\n",
      "\n",
      "Sincerely,\n",
      "\n",
      "Shea McCormack\n"
     ]
    }
   ],
   "source": [
    "print(cover_text(company, position, location, paras))"
   ]
  },
  {
   "cell_type": "code",
   "execution_count": 27,
   "id": "1e47c465",
   "metadata": {},
   "outputs": [],
   "source": [
    "with open('cover_letter.txt', 'w') as f:\n",
    "    f.write(cover_text(company, position, location, paras))"
   ]
  },
  {
   "cell_type": "code",
   "execution_count": null,
   "id": "23216c17",
   "metadata": {},
   "outputs": [],
   "source": []
  }
 ],
 "metadata": {
  "kernelspec": {
   "display_name": "Python 3 (ipykernel)",
   "language": "python",
   "name": "python3"
  },
  "language_info": {
   "codemirror_mode": {
    "name": "ipython",
    "version": 3
   },
   "file_extension": ".py",
   "mimetype": "text/x-python",
   "name": "python",
   "nbconvert_exporter": "python",
   "pygments_lexer": "ipython3",
   "version": "3.9.12"
  }
 },
 "nbformat": 4,
 "nbformat_minor": 5
}
